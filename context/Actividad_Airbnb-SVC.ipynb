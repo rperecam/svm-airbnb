{
 "cells": [
  {
   "cell_type": "markdown",
   "metadata": {},
   "source": [
    "## Actividad SVM\n",
    "### Asignatura Aprendizaje automático II\n",
    "#### autor: Jorge Calvo\n",
    "\n",
    "**Actividad**<br>\n",
    "La actividad asociada a este tema y de la asignatura va a constituir en un ejercicio de clasificación y otro de regresión usando los datos de los alquileres vacacionales ofrecidos en la plataforma AirBnB.\n",
    "\n",
    "**Clasificación**<br>\n",
    "La tarea de clasificación consistirá en clasificar los datos según el tipo de alojamiento, definido en el campo room_type, a partir del resto de características. Es decir, en room_type estarán codificadas las clases y en el resto de campos los atributos.\n",
    "\n",
    "La clasificación se realizará usando LinearSVC y SVC con sus parámetros por defecto, para el entrenamiento y validación se seguirá lo descrito en los dos primeros puntos de la subsección 3.7.3, teniendo en cuenta que ahora son dos modelos. En cuanto al punto 3, afinación de hiperparámetros, se realizará para SVC, usando el kernel RBF, buscando los mejores valores para gamma y C, por lo que hay que realizar búsquedas de manera que cada una refine la anterior.\n",
    "Para crear las listas de parámetros se puede hacer a mano o usando numpy.logspace. Las listas están\n",
    "equiespaciadas en escala logarítmica, si se realizara una tercera búsqueda se podría usar una escala\n",
    "lineal. La idea es escala logarítmica para rangos elevados y lineal para rangos no elevados.\n",
    "\n",
    "**Regresión**<br>\n",
    "La tarea de regresión consistirá en considerar el precio por noche como variable dependiente, y el resto de campos como variables independientes. Es decir, se tratará de predecir los valores del campo price a partir de todos los demás. \n",
    "\n",
    "*Puntos a tener en cuenta:*<br>\n",
    "\n",
    "Convendrá estudiar estadísticamente las variables price, minimun_nights y calculated_host_listings_count para ver si hay outliers que posiblemente sea conveniente eliminar.\n",
    "Probar con LinearSVR y SVR con parámetros por defecto, realizando el entrenamiento para cada caso usando todas las variables independientes y todas las independientes excepto neighbourhood, ya que esta variable es categórica y tiene muchos valores, lo que podría afectar a los resultados. Si los resultados aconsejan eliminar neighbourhood el siguiente punto se realizará\n",
    "sin tener en cuenta dicha variable.\n",
    "\n",
    "Para el algoritmo que mejor resultado haya dado en el punto anterior realizar una afinación de\n",
    "hiperparámetros como se comentó en el apartado de clasificación:\n",
    "• C si fuera LinearSVR, realizando 3 búsquedas.\n",
    "• alpha y C si fuera SVR, realizando 2 búsquedas.\n"
   ]
  },
  {
   "cell_type": "markdown",
   "metadata": {},
   "source": [
    "## Resolución de la actividad\n",
    "\n",
    "Antes de realziar cualquier tipo de modelado pedido en el enunciado de la práctica, se procederá a un estudio de los datos y una visualización para entender el contexto del dominio.\n",
    "\n",
    "**Pasos de análisis**\n",
    "* Carga de librerias\n",
    "* Carga de datos (fichero: airbnb.csv)\n",
    "* Descripción y dimensión de los datos\n",
    "* Visualización gráfica de los datos"
   ]
  }
 ],
 "metadata": {
  "kernelspec": {
   "display_name": "Python 3",
   "language": "python",
   "name": "python3"
  },
  "language_info": {
   "codemirror_mode": {
    "name": "ipython",
    "version": 3
   },
   "file_extension": ".py",
   "mimetype": "text/x-python",
   "name": "python",
   "nbconvert_exporter": "python",
   "pygments_lexer": "ipython3",
   "version": "3.7.7"
  }
 },
 "nbformat": 4,
 "nbformat_minor": 4
}
